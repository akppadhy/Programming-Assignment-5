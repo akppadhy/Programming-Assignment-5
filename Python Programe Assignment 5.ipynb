{
 "cells": [
  {
   "cell_type": "code",
   "execution_count": 7,
   "id": "fa1a115f-6a9e-44bd-befa-32a148d1ea9a",
   "metadata": {},
   "outputs": [
    {
     "name": "stdout",
     "output_type": "stream",
     "text": [
      "The LCM of 5,10 is 10\n",
      "The LCM of 5,6 is 30\n",
      "The LCM of 5,100 is 100\n"
     ]
    }
   ],
   "source": [
    "#1. Write a Python Program to Find LCM?\n",
    "\n",
    "def findTheLcm(x_term,y_term):\n",
    "    if x_term > y_term:\n",
    "        greater = x_term\n",
    "    else:\n",
    "        greater = x_term\n",
    "    while True:\n",
    "        if((greater%x_term == 0) and (greater%y_term == 0)):\n",
    "            lcm = greater\n",
    "            break\n",
    "        else:\n",
    "            greater +=1\n",
    "    print(f'The LCM of {x_term},{y_term} is {lcm}')\n",
    "\n",
    "findTheLcm(5,10)\n",
    "findTheLcm(5,6)\n",
    "findTheLcm(5,100)"
   ]
  },
  {
   "cell_type": "code",
   "execution_count": 9,
   "id": "4d8df938-2806-415d-bf24-dc92c8157f27",
   "metadata": {},
   "outputs": [
    {
     "name": "stdout",
     "output_type": "stream",
     "text": [
      "The HCF of 9,18 is 9\n",
      "The HCF of 14,32 is 2\n",
      "The HCF of 36,24 is 12\n"
     ]
    }
   ],
   "source": [
    "#2. Write a Python Program to Find HCF?\n",
    "\n",
    "def findTheHcf(x_term,y_term):\n",
    "    if x_term>y_term:\n",
    "        smaller = y_term\n",
    "    else:\n",
    "        smaller = x_term\n",
    "    for ele in range(1,smaller+1):\n",
    "        if((x_term%ele == 0) and (y_term%ele == 0)):\n",
    "            hcf = ele\n",
    "    print(f'The HCF of {x_term},{y_term} is {hcf}')\n",
    "\n",
    "findTheHcf(9,18)\n",
    "findTheHcf(14,32)\n",
    "findTheHcf(36,24)"
   ]
  },
  {
   "cell_type": "code",
   "execution_count": 12,
   "id": "3471a438-f75c-48bf-935b-9c13cbaaf039",
   "metadata": {},
   "outputs": [
    {
     "name": "stdout",
     "output_type": "stream",
     "text": [
      "Binary representation of 4569 is 0b1000111011001\n",
      "Octal representation of 4569 is 0o10731\n",
      "Hexadecimal representation of 4569 is 0x11d9\n"
     ]
    }
   ],
   "source": [
    "#3. Write a Python Program to Convert Decimal to Binary, Octal and Hexadecimal?\n",
    "\n",
    "\n",
    "decimal_number = 4569\n",
    "\n",
    "# decimal to binary:\n",
    "binary_number = bin(decimal_number)\n",
    "print(\"Binary representation of\", decimal_number, \"is\", binary_number)\n",
    "\n",
    "# decimal to octal:\n",
    "octal_number = oct(decimal_number)\n",
    "print(\"Octal representation of\", decimal_number, \"is\", octal_number)\n",
    "\n",
    "# decimal to hexadecimal:\n",
    "hexadecimal_number = hex(decimal_number)\n",
    "print(\"Hexadecimal representation of\", decimal_number, \"is\", hexadecimal_number)"
   ]
  },
  {
   "cell_type": "code",
   "execution_count": 13,
   "id": "6cb68b38-f2f9-455d-be82-5a95e875debb",
   "metadata": {},
   "outputs": [
    {
     "name": "stdout",
     "output_type": "stream",
     "text": [
      "97\n"
     ]
    }
   ],
   "source": [
    "#4. Write a Python Program To Find ASCII value of a character?\n",
    "\n",
    "def get_ascii_value(char):\n",
    "    return ord(char)\n",
    "\n",
    "print(get_ascii_value('a'))"
   ]
  },
  {
   "cell_type": "code",
   "execution_count": 15,
   "id": "e835a004-7f08-47dd-a7ed-d889c4da2a5d",
   "metadata": {},
   "outputs": [
    {
     "data": {
      "text/plain": [
       "27"
      ]
     },
     "execution_count": 15,
     "metadata": {},
     "output_type": "execute_result"
    }
   ],
   "source": [
    "#5. Write a Python Program to Make a Simple Calculator with 4 basic mathematical operations?\n",
    "\n",
    "\n",
    "def simple_math_calculator(a, b, act):\n",
    "    if act == 'summation':\n",
    "        return a + b\n",
    "    elif act =='subtraction':\n",
    "        return a - b\n",
    "    elif act == 'division':\n",
    "        return a / b\n",
    "    elif act =='multiplication':\n",
    "            return a * b\n",
    "\n",
    "simple_math_calculator(14, 13, 'summation')"
   ]
  },
  {
   "cell_type": "code",
   "execution_count": null,
   "id": "38b7e3f4-8d10-42a6-ad2e-e7ded93f1d45",
   "metadata": {},
   "outputs": [],
   "source": []
  }
 ],
 "metadata": {
  "kernelspec": {
   "display_name": "Python 3 (ipykernel)",
   "language": "python",
   "name": "python3"
  },
  "language_info": {
   "codemirror_mode": {
    "name": "ipython",
    "version": 3
   },
   "file_extension": ".py",
   "mimetype": "text/x-python",
   "name": "python",
   "nbconvert_exporter": "python",
   "pygments_lexer": "ipython3",
   "version": "3.10.6"
  }
 },
 "nbformat": 4,
 "nbformat_minor": 5
}
